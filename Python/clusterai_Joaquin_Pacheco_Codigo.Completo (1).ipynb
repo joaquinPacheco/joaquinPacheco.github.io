{
 "cells": [
  {
   "cell_type": "code",
   "execution_count": 84,
   "id": "ce28c022-c49e-4f27-a527-05f1c4cb6012",
   "metadata": {},
   "outputs": [],
   "source": [
    "## Importo librerías\n",
    "import pandas as pd\n",
    "import numpy as np\n",
    "import matplotlib.pyplot as plt\n",
    "import seaborn as sns"
   ]
  },
  {
   "cell_type": "code",
   "execution_count": 198,
   "id": "56c53d2c-d1c2-417a-8309-1d26f0ca34de",
   "metadata": {},
   "outputs": [],
   "source": [
    "# Importar librerías de scikit-learn para los modelos de entrenamiento\n",
    "from sklearn.model_selection import train_test_split, cross_val_score\n",
    "from sklearn.pipeline import Pipeline\n",
    "from sklearn.compose import ColumnTransformer\n",
    "from sklearn.preprocessing import StandardScaler\n",
    "from sklearn.decomposition import PCA\n",
    "from sklearn.linear_model import LogisticRegression\n",
    "from sklearn.ensemble import RandomForestClassifier\n",
    "from sklearn.svm import SVC\n",
    "from sklearn.metrics import accuracy_score, confusion_matrix, classification_report"
   ]
  },
  {
   "cell_type": "code",
   "execution_count": 88,
   "id": "dda3efe7-6497-45cc-b00b-85b6babca372",
   "metadata": {},
   "outputs": [],
   "source": [
    "# Configuro opciones para poder visualizar todas las columnas\n",
    "pd.set_option('display.max_columns', None)\n",
    "pd.set_option('display.max_rows', None)"
   ]
  },
  {
   "cell_type": "code",
   "execution_count": 90,
   "id": "4fc72f16-5dcf-46de-8792-5e0b7282ec09",
   "metadata": {},
   "outputs": [
    {
     "data": {
      "text/html": [
       "<div>\n",
       "<style scoped>\n",
       "    .dataframe tbody tr th:only-of-type {\n",
       "        vertical-align: middle;\n",
       "    }\n",
       "\n",
       "    .dataframe tbody tr th {\n",
       "        vertical-align: top;\n",
       "    }\n",
       "\n",
       "    .dataframe thead th {\n",
       "        text-align: right;\n",
       "    }\n",
       "</style>\n",
       "<table border=\"1\" class=\"dataframe\">\n",
       "  <thead>\n",
       "    <tr style=\"text-align: right;\">\n",
       "      <th></th>\n",
       "      <th>Unnamed: 0</th>\n",
       "      <th>customerID</th>\n",
       "      <th>gender</th>\n",
       "      <th>SeniorCitizen</th>\n",
       "      <th>Partner</th>\n",
       "      <th>Dependents</th>\n",
       "      <th>tenure</th>\n",
       "      <th>PhoneService</th>\n",
       "      <th>MultipleLines</th>\n",
       "      <th>InternetService</th>\n",
       "      <th>OnlineSecurity</th>\n",
       "      <th>OnlineBackup</th>\n",
       "      <th>DeviceProtection</th>\n",
       "      <th>TechSupport</th>\n",
       "      <th>StreamingTV</th>\n",
       "      <th>StreamingMovies</th>\n",
       "      <th>Contract</th>\n",
       "      <th>PaperlessBilling</th>\n",
       "      <th>PaymentMethod</th>\n",
       "      <th>MonthlyCharges</th>\n",
       "      <th>TotalCharges</th>\n",
       "      <th>Churn</th>\n",
       "    </tr>\n",
       "  </thead>\n",
       "  <tbody>\n",
       "    <tr>\n",
       "      <th>0</th>\n",
       "      <td>0</td>\n",
       "      <td>7590-VHVEG</td>\n",
       "      <td>Female</td>\n",
       "      <td>NaN</td>\n",
       "      <td>Yes</td>\n",
       "      <td>No</td>\n",
       "      <td>1.0</td>\n",
       "      <td>No</td>\n",
       "      <td>No phone service</td>\n",
       "      <td>DSL</td>\n",
       "      <td>No</td>\n",
       "      <td>Yes</td>\n",
       "      <td>No</td>\n",
       "      <td>No</td>\n",
       "      <td>No</td>\n",
       "      <td>No</td>\n",
       "      <td>Month-to-month</td>\n",
       "      <td>NaN</td>\n",
       "      <td>Electronic check</td>\n",
       "      <td>29.85</td>\n",
       "      <td>29.85</td>\n",
       "      <td>No</td>\n",
       "    </tr>\n",
       "    <tr>\n",
       "      <th>1</th>\n",
       "      <td>1</td>\n",
       "      <td>5575-GNVDE</td>\n",
       "      <td>Male</td>\n",
       "      <td>0.0</td>\n",
       "      <td>No</td>\n",
       "      <td>No</td>\n",
       "      <td>34.0</td>\n",
       "      <td>Yes</td>\n",
       "      <td>No</td>\n",
       "      <td>NaN</td>\n",
       "      <td>Yes</td>\n",
       "      <td>No</td>\n",
       "      <td>Yes</td>\n",
       "      <td>No</td>\n",
       "      <td>No</td>\n",
       "      <td>No</td>\n",
       "      <td>One year</td>\n",
       "      <td>No</td>\n",
       "      <td>Mailed check</td>\n",
       "      <td>NaN</td>\n",
       "      <td>1889.5</td>\n",
       "      <td>No</td>\n",
       "    </tr>\n",
       "    <tr>\n",
       "      <th>2</th>\n",
       "      <td>2</td>\n",
       "      <td>3668-QPYBK</td>\n",
       "      <td>Male</td>\n",
       "      <td>0.0</td>\n",
       "      <td>No</td>\n",
       "      <td>No</td>\n",
       "      <td>2.0</td>\n",
       "      <td>NaN</td>\n",
       "      <td>No</td>\n",
       "      <td>NaN</td>\n",
       "      <td>Yes</td>\n",
       "      <td>NaN</td>\n",
       "      <td>No</td>\n",
       "      <td>No</td>\n",
       "      <td>No</td>\n",
       "      <td>No</td>\n",
       "      <td>Month-to-month</td>\n",
       "      <td>Yes</td>\n",
       "      <td>Mailed check</td>\n",
       "      <td>53.85</td>\n",
       "      <td>108.15</td>\n",
       "      <td>Yes</td>\n",
       "    </tr>\n",
       "  </tbody>\n",
       "</table>\n",
       "</div>"
      ],
      "text/plain": [
       "   Unnamed: 0  customerID  gender  SeniorCitizen Partner Dependents  tenure  \\\n",
       "0           0  7590-VHVEG  Female            NaN     Yes         No     1.0   \n",
       "1           1  5575-GNVDE    Male            0.0      No         No    34.0   \n",
       "2           2  3668-QPYBK    Male            0.0      No         No     2.0   \n",
       "\n",
       "  PhoneService     MultipleLines InternetService OnlineSecurity OnlineBackup  \\\n",
       "0           No  No phone service             DSL             No          Yes   \n",
       "1          Yes                No             NaN            Yes           No   \n",
       "2          NaN                No             NaN            Yes          NaN   \n",
       "\n",
       "  DeviceProtection TechSupport StreamingTV StreamingMovies        Contract  \\\n",
       "0               No          No          No              No  Month-to-month   \n",
       "1              Yes          No          No              No        One year   \n",
       "2               No          No          No              No  Month-to-month   \n",
       "\n",
       "  PaperlessBilling     PaymentMethod  MonthlyCharges TotalCharges Churn  \n",
       "0              NaN  Electronic check           29.85        29.85    No  \n",
       "1               No      Mailed check             NaN       1889.5    No  \n",
       "2              Yes      Mailed check           53.85       108.15   Yes  "
      ]
     },
     "execution_count": 90,
     "metadata": {},
     "output_type": "execute_result"
    }
   ],
   "source": [
    "telco = pd.read_csv('./telco_churn_clusterai.csv', delimiter=',',encoding='latin-1')\n",
    "telco.head(3)"
   ]
  },
  {
   "cell_type": "code",
   "execution_count": 92,
   "id": "f3504226-0c36-4c89-9cae-285b612f63e0",
   "metadata": {},
   "outputs": [
    {
     "name": "stdout",
     "output_type": "stream",
     "text": [
      "Shape: (7043, 22)\n"
     ]
    }
   ],
   "source": [
    "print(f'Shape: {np.shape(telco)}')"
   ]
  },
  {
   "cell_type": "markdown",
   "id": "1c4c2ada-9b70-4d09-8d49-a6bee3bb2d1e",
   "metadata": {},
   "source": [
    "# **1) Preprocesamiento**"
   ]
  },
  {
   "cell_type": "markdown",
   "id": "b83bc1b7-d678-4158-a9b0-6f6deea97879",
   "metadata": {},
   "source": [
    "### **Encuadre del Data set**"
   ]
  },
  {
   "cell_type": "code",
   "execution_count": 96,
   "id": "465bba9e-81c8-434a-9c68-6f2feb44f515",
   "metadata": {},
   "outputs": [],
   "source": [
    "#Reemplazo el valor \"No phone service\" por \"No\" para facilitar la comprension de dataset"
   ]
  },
  {
   "cell_type": "code",
   "execution_count": 98,
   "id": "c49cba24-2d6c-4f34-8163-1cdfb426ce82",
   "metadata": {},
   "outputs": [],
   "source": [
    "# Listo las columnas que tiene 2No phone service\"\n",
    "columns_to_replace = [\n",
    "    'OnlineSecurity', 'OnlineBackup', 'DeviceProtection',\n",
    "    'TechSupport', 'StreamingTV', 'StreamingMovies'\n",
    "]\n",
    "# Reemplazo \"No internet service\" por \"No\" en las columnas especificadas\n",
    "telco[columns_to_replace] = telco[columns_to_replace].replace('No internet service', 'No')\n"
   ]
  },
  {
   "cell_type": "code",
   "execution_count": 100,
   "id": "1af2dad2-4f3e-4533-af9b-232061830a1a",
   "metadata": {},
   "outputs": [
    {
     "name": "stdout",
     "output_type": "stream",
     "text": [
      "OnlineSecurity unique values: ['No' 'Yes' nan]\n",
      "OnlineBackup unique values: ['Yes' 'No' nan]\n",
      "DeviceProtection unique values: ['No' 'Yes']\n",
      "TechSupport unique values: ['No' 'Yes']\n",
      "StreamingTV unique values: ['No' 'Yes']\n",
      "StreamingMovies unique values: ['No' 'Yes']\n"
     ]
    }
   ],
   "source": [
    "# Verifico el resultado\n",
    "for column in columns_to_replace:\n",
    "    print(f\"{column} unique values: {telco[column].unique()}\")"
   ]
  },
  {
   "cell_type": "markdown",
   "id": "7667c7e0-c19e-4b28-817d-bbb8791ba4e3",
   "metadata": {},
   "source": [
    "#### Imputacion de missings para variables categoricas"
   ]
  },
  {
   "cell_type": "code",
   "execution_count": 103,
   "id": "04cf34a9-9540-4a7c-93be-b3ebd0f30215",
   "metadata": {},
   "outputs": [
    {
     "name": "stdout",
     "output_type": "stream",
     "text": [
      "Después de fillna para categóricas:\n",
      "customerID          0\n",
      "gender              0\n",
      "Partner             0\n",
      "Dependents          0\n",
      "PhoneService        0\n",
      "MultipleLines       0\n",
      "InternetService     0\n",
      "OnlineSecurity      0\n",
      "OnlineBackup        0\n",
      "DeviceProtection    0\n",
      "TechSupport         0\n",
      "StreamingTV         0\n",
      "StreamingMovies     0\n",
      "Contract            0\n",
      "PaperlessBilling    0\n",
      "PaymentMethod       0\n",
      "TotalCharges        0\n",
      "Churn               0\n",
      "dtype: int64\n"
     ]
    }
   ],
   "source": [
    "categorical_columns = telco.select_dtypes(include=['object']).columns\n",
    "telco[categorical_columns] = telco[categorical_columns].fillna('sin valor')\n",
    "print(\"Después de fillna para categóricas:\")\n",
    "print(telco[categorical_columns].isnull().sum())"
   ]
  },
  {
   "cell_type": "markdown",
   "id": "65c02968-3e0e-476f-86a7-1ae3c2ec87b5",
   "metadata": {},
   "source": [
    "# **2) Exploratory Data Analisis**"
   ]
  },
  {
   "cell_type": "markdown",
   "id": "571e1676-328a-48a3-8038-2bb58cee2fdf",
   "metadata": {},
   "source": [
    "#### Convierto y completo TotalCharges y MonthlyCharges"
   ]
  },
  {
   "cell_type": "code",
   "execution_count": 108,
   "id": "d7fb876a-0f5f-41c3-a56a-55d9f6cac491",
   "metadata": {},
   "outputs": [
    {
     "name": "stderr",
     "output_type": "stream",
     "text": [
      "C:\\Users\\joaqpach\\AppData\\Local\\Temp\\ipykernel_37840\\376663345.py:4: FutureWarning: A value is trying to be set on a copy of a DataFrame or Series through chained assignment using an inplace method.\n",
      "The behavior will change in pandas 3.0. This inplace method will never work because the intermediate object on which we are setting values always behaves as a copy.\n",
      "\n",
      "For example, when doing 'df[col].method(value, inplace=True)', try using 'df.method({col: value}, inplace=True)' or df[col] = df[col].method(value) instead, to perform the operation inplace on the original object.\n",
      "\n",
      "\n",
      "  telco[col].fillna(0, inplace=True)\n"
     ]
    }
   ],
   "source": [
    "# Convierto 'TotalCharges' y 'MonthlyCharges' a numérico, manejando valores faltantes\n",
    "for col in ['TotalCharges', 'MonthlyCharges']:\n",
    "    telco[col] = pd.to_numeric(telco[col], errors='coerce')\n",
    "    telco[col].fillna(0, inplace=True)"
   ]
  },
  {
   "cell_type": "markdown",
   "id": "b2b2290d-6fff-4d34-807b-a6495ff68226",
   "metadata": {},
   "source": [
    "#### Verificacion"
   ]
  },
  {
   "cell_type": "code",
   "execution_count": 110,
   "id": "fd9023ac-7a9b-44b7-83ca-dd5c65c4ab6d",
   "metadata": {},
   "outputs": [
    {
     "name": "stdout",
     "output_type": "stream",
     "text": [
      "Valores faltantes en 'MonthlyCharges': 0\n",
      "Valores faltantes en 'TotalCharges': 0\n"
     ]
    }
   ],
   "source": [
    "# Verifico que no haya NaN \n",
    "print(\"Valores faltantes en 'MonthlyCharges':\", telco['MonthlyCharges'].isnull().sum())\n",
    "print(\"Valores faltantes en 'TotalCharges':\", telco['TotalCharges'].isnull().sum())"
   ]
  },
  {
   "cell_type": "markdown",
   "id": "d99e36b6-fdd1-4dd6-bb26-49ac232731c9",
   "metadata": {},
   "source": [
    "### Eliminacion de missings para variables numericas"
   ]
  },
  {
   "cell_type": "code",
   "execution_count": 112,
   "id": "e311d629-8822-4cc5-a318-42bfa74cbc7e",
   "metadata": {},
   "outputs": [
    {
     "data": {
      "text/html": [
       "<div>\n",
       "<style scoped>\n",
       "    .dataframe tbody tr th:only-of-type {\n",
       "        vertical-align: middle;\n",
       "    }\n",
       "\n",
       "    .dataframe tbody tr th {\n",
       "        vertical-align: top;\n",
       "    }\n",
       "\n",
       "    .dataframe thead th {\n",
       "        text-align: right;\n",
       "    }\n",
       "</style>\n",
       "<table border=\"1\" class=\"dataframe\">\n",
       "  <thead>\n",
       "    <tr style=\"text-align: right;\">\n",
       "      <th></th>\n",
       "      <th>Total</th>\n",
       "      <th>Percent</th>\n",
       "    </tr>\n",
       "  </thead>\n",
       "  <tbody>\n",
       "    <tr>\n",
       "      <th>SeniorCitizen</th>\n",
       "      <td>916</td>\n",
       "      <td>0.130058</td>\n",
       "    </tr>\n",
       "    <tr>\n",
       "      <th>tenure</th>\n",
       "      <td>916</td>\n",
       "      <td>0.130058</td>\n",
       "    </tr>\n",
       "    <tr>\n",
       "      <th>Unnamed: 0</th>\n",
       "      <td>0</td>\n",
       "      <td>0.000000</td>\n",
       "    </tr>\n",
       "    <tr>\n",
       "      <th>DeviceProtection</th>\n",
       "      <td>0</td>\n",
       "      <td>0.000000</td>\n",
       "    </tr>\n",
       "    <tr>\n",
       "      <th>TotalCharges</th>\n",
       "      <td>0</td>\n",
       "      <td>0.000000</td>\n",
       "    </tr>\n",
       "    <tr>\n",
       "      <th>MonthlyCharges</th>\n",
       "      <td>0</td>\n",
       "      <td>0.000000</td>\n",
       "    </tr>\n",
       "    <tr>\n",
       "      <th>PaymentMethod</th>\n",
       "      <td>0</td>\n",
       "      <td>0.000000</td>\n",
       "    </tr>\n",
       "    <tr>\n",
       "      <th>PaperlessBilling</th>\n",
       "      <td>0</td>\n",
       "      <td>0.000000</td>\n",
       "    </tr>\n",
       "    <tr>\n",
       "      <th>Contract</th>\n",
       "      <td>0</td>\n",
       "      <td>0.000000</td>\n",
       "    </tr>\n",
       "    <tr>\n",
       "      <th>StreamingMovies</th>\n",
       "      <td>0</td>\n",
       "      <td>0.000000</td>\n",
       "    </tr>\n",
       "    <tr>\n",
       "      <th>StreamingTV</th>\n",
       "      <td>0</td>\n",
       "      <td>0.000000</td>\n",
       "    </tr>\n",
       "    <tr>\n",
       "      <th>TechSupport</th>\n",
       "      <td>0</td>\n",
       "      <td>0.000000</td>\n",
       "    </tr>\n",
       "    <tr>\n",
       "      <th>OnlineBackup</th>\n",
       "      <td>0</td>\n",
       "      <td>0.000000</td>\n",
       "    </tr>\n",
       "    <tr>\n",
       "      <th>customerID</th>\n",
       "      <td>0</td>\n",
       "      <td>0.000000</td>\n",
       "    </tr>\n",
       "  </tbody>\n",
       "</table>\n",
       "</div>"
      ],
      "text/plain": [
       "                  Total   Percent\n",
       "SeniorCitizen       916  0.130058\n",
       "tenure              916  0.130058\n",
       "Unnamed: 0            0  0.000000\n",
       "DeviceProtection      0  0.000000\n",
       "TotalCharges          0  0.000000\n",
       "MonthlyCharges        0  0.000000\n",
       "PaymentMethod         0  0.000000\n",
       "PaperlessBilling      0  0.000000\n",
       "Contract              0  0.000000\n",
       "StreamingMovies       0  0.000000\n",
       "StreamingTV           0  0.000000\n",
       "TechSupport           0  0.000000\n",
       "OnlineBackup          0  0.000000\n",
       "customerID            0  0.000000"
      ]
     },
     "execution_count": 112,
     "metadata": {},
     "output_type": "execute_result"
    }
   ],
   "source": [
    "total = telco.isnull().sum().sort_values(ascending=False)\n",
    "percent = (telco.isnull().sum()/telco.isnull().count()).sort_values(ascending=False)\n",
    "missing_data = pd.concat([total, percent], axis=1, keys=['Total', 'Percent'])\n",
    "missing_data.head(14)"
   ]
  },
  {
   "cell_type": "code",
   "execution_count": 114,
   "id": "06ea8c6a-6d97-4743-984c-d23eae0add2f",
   "metadata": {},
   "outputs": [
    {
     "name": "stdout",
     "output_type": "stream",
     "text": [
      "Antes de dropna, NaN en numéricas:\n",
      "Unnamed: 0          0\n",
      "SeniorCitizen     916\n",
      "tenure            916\n",
      "MonthlyCharges      0\n",
      "TotalCharges        0\n",
      "dtype: int64\n"
     ]
    }
   ],
   "source": [
    "# # Verifico que no haya NaN en variables numéricas\n",
    "numeric_columns = telco.select_dtypes(include=[np.number]).columns\n",
    "print(\"Antes de dropna, NaN en numéricas:\")\n",
    "print(telco[numeric_columns].isnull().sum())"
   ]
  },
  {
   "cell_type": "code",
   "execution_count": 116,
   "id": "033c083a-e813-4c3e-a182-31692129d554",
   "metadata": {},
   "outputs": [],
   "source": [
    "telco.dropna(how='any', inplace=True)"
   ]
  },
  {
   "cell_type": "code",
   "execution_count": 118,
   "id": "86557a5a-a35e-481c-8d6a-72d3bdb590ed",
   "metadata": {},
   "outputs": [
    {
     "name": "stdout",
     "output_type": "stream",
     "text": [
      "Nos quedamos con un df de 5320 filas x22 columnas\n"
     ]
    }
   ],
   "source": [
    "# Verifico como quedo el data-set\n",
    "print(f'Nos quedamos con un df de {telco.shape[0]} filas x{telco.shape[1]} columnas')"
   ]
  },
  {
   "cell_type": "markdown",
   "id": "eda32783-7d60-4507-87a9-be634424034a",
   "metadata": {},
   "source": [
    "#### Elimino las variables \"Unnamed: 0\" y \"customerID\" ya que son variables keys del dataset y no nos aportan informacion"
   ]
  },
  {
   "cell_type": "code",
   "execution_count": 121,
   "id": "214ea484-b6df-4d9e-a86e-b68cca35be35",
   "metadata": {},
   "outputs": [
    {
     "data": {
      "text/plain": [
       "(5320, 20)"
      ]
     },
     "execution_count": 121,
     "metadata": {},
     "output_type": "execute_result"
    }
   ],
   "source": [
    "ids_vars = [\"Unnamed: 0\", \"customerID\"] # creo una lista de las variables que decidimos eliminar\n",
    "telco.drop(ids_vars, axis=1,inplace= True)\n",
    "telco.shape"
   ]
  },
  {
   "cell_type": "markdown",
   "id": "eafe0e7f-cffb-4c7e-83f9-5185b29ea17e",
   "metadata": {},
   "source": [
    "### Seleccion de variables"
   ]
  },
  {
   "cell_type": "code",
   "execution_count": 124,
   "id": "ea2648f6-8b7d-4f30-9626-8d43b7b3d8bb",
   "metadata": {},
   "outputs": [],
   "source": [
    "# Voy a probar diversas opciones y me quedare con la que performa mejor"
   ]
  },
  {
   "cell_type": "markdown",
   "id": "d101d9c8-267d-4fec-831d-45ba12233952",
   "metadata": {},
   "source": [
    "### Opcion 1"
   ]
  },
  {
   "cell_type": "code",
   "execution_count": 143,
   "id": "e0b2d922-0a4d-49b2-b2ce-74b6806e0ce7",
   "metadata": {},
   "outputs": [],
   "source": [
    "telco_opcion1 = telco.copy()"
   ]
  },
  {
   "cell_type": "code",
   "execution_count": 145,
   "id": "3dee4151-cd89-4bb1-813a-272e310d2eab",
   "metadata": {},
   "outputs": [],
   "source": [
    "# Identifico y transformo columnas binarias\n",
    "binary_columns = [col for col in telco_opcion1.select_dtypes(include=['object']).columns if set(telco_opcion1[col].dropna().unique()) <= {'Yes', 'No', 'No'}]\n",
    "for column in binary_columns:\n",
    "    telco_opcion1[column] = telco_opcion1[column].map({'Yes': 1, 'No': 0})"
   ]
  },
  {
   "cell_type": "code",
   "execution_count": 147,
   "id": "73798967-ef4c-474c-91f2-154cce0c44cf",
   "metadata": {},
   "outputs": [],
   "source": [
    "# Identifico y transformo columnas no binarias\n",
    "non_binary_categorical_columns = list(set(telco_opcion1.select_dtypes(include=['object']).columns) - set(binary_columns))\n",
    "telco_opcion1 = pd.get_dummies(telco_opcion1, columns=non_binary_categorical_columns, drop_first=True, dtype=int)"
   ]
  },
  {
   "cell_type": "code",
   "execution_count": 149,
   "id": "aac3b177-1feb-4f20-84ad-f400a0b092c8",
   "metadata": {},
   "outputs": [
    {
     "name": "stdout",
     "output_type": "stream",
     "text": [
      "   SeniorCitizen  tenure  DeviceProtection  TechSupport  StreamingTV  \\\n",
      "1            0.0    34.0                 1            0            0   \n",
      "2            0.0     2.0                 0            0            0   \n",
      "5            0.0     8.0                 1            0            1   \n",
      "6            0.0    22.0                 0            0            1   \n",
      "7            0.0    10.0                 0            0            0   \n",
      "\n",
      "   StreamingMovies  MonthlyCharges  TotalCharges  Churn  \\\n",
      "1                0            0.00       1889.50      0   \n",
      "2                0           53.85        108.15      1   \n",
      "5                1           99.65        820.50      1   \n",
      "6                0           89.10       1949.40      0   \n",
      "7                0           29.75        301.90      0   \n",
      "\n",
      "   PaymentMethod_Credit card (automatic)  PaymentMethod_Electronic check  \\\n",
      "1                                      0                               0   \n",
      "2                                      0                               0   \n",
      "5                                      0                               1   \n",
      "6                                      1                               0   \n",
      "7                                      0                               0   \n",
      "\n",
      "   PaymentMethod_Mailed check  PaymentMethod_sin valor  Contract_One year  \\\n",
      "1                           1                        0                  1   \n",
      "2                           1                        0                  0   \n",
      "5                           0                        0                  0   \n",
      "6                           0                        0                  0   \n",
      "7                           1                        0                  0   \n",
      "\n",
      "   Contract_Two year  Contract_sin valor  PhoneService_Yes  \\\n",
      "1                  0                   0                 1   \n",
      "2                  0                   0                 0   \n",
      "5                  0                   0                 1   \n",
      "6                  0                   1                 1   \n",
      "7                  0                   1                 0   \n",
      "\n",
      "   PhoneService_sin valor  Partner_Yes  Partner_sin valor  \\\n",
      "1                       0            0                  0   \n",
      "2                       1            0                  0   \n",
      "5                       0            0                  0   \n",
      "6                       0            0                  1   \n",
      "7                       0            0                  0   \n",
      "\n",
      "   InternetService_Fiber optic  InternetService_No  InternetService_sin valor  \\\n",
      "1                            0                   0                          1   \n",
      "2                            0                   0                          1   \n",
      "5                            1                   0                          0   \n",
      "6                            1                   0                          0   \n",
      "7                            0                   0                          0   \n",
      "\n",
      "   MultipleLines_No phone service  MultipleLines_Yes  MultipleLines_sin valor  \\\n",
      "1                               0                  0                        0   \n",
      "2                               0                  0                        0   \n",
      "5                               0                  1                        0   \n",
      "6                               0                  1                        0   \n",
      "7                               1                  0                        0   \n",
      "\n",
      "   PaperlessBilling_Yes  PaperlessBilling_sin valor  OnlineSecurity_Yes  \\\n",
      "1                     0                           0                   1   \n",
      "2                     1                           0                   1   \n",
      "5                     0                           1                   0   \n",
      "6                     1                           0                   0   \n",
      "7                     0                           1                   1   \n",
      "\n",
      "   OnlineSecurity_sin valor  Dependents_Yes  Dependents_sin valor  \\\n",
      "1                         0               0                     0   \n",
      "2                         0               0                     0   \n",
      "5                         0               0                     0   \n",
      "6                         0               1                     0   \n",
      "7                         0               0                     0   \n",
      "\n",
      "   gender_Male  gender_sin valor  OnlineBackup_Yes  OnlineBackup_sin valor  \n",
      "1            1                 0                 0                       0  \n",
      "2            1                 0                 0                       1  \n",
      "5            0                 0                 0                       0  \n",
      "6            1                 0                 1                       0  \n",
      "7            0                 1                 0                       0  \n"
     ]
    }
   ],
   "source": [
    "# Verifico el resultado\n",
    "print(telco_opcion1.head())"
   ]
  },
  {
   "cell_type": "code",
   "execution_count": 151,
   "id": "1ed59e4a-d895-4237-8fff-56a3aa19d3af",
   "metadata": {},
   "outputs": [
    {
     "name": "stdout",
     "output_type": "stream",
     "text": [
      "Nos quedamos con un data-set de 5320 filas x36 columnas\n"
     ]
    }
   ],
   "source": [
    "# Verifico como quedo el data-set\n",
    "print(f'Nos quedamos con un data-set de {telco_opcion1.shape[0]} filas x{telco_opcion1.shape[1]} columnas')"
   ]
  },
  {
   "cell_type": "code",
   "execution_count": 153,
   "id": "3ff2181b-d9e4-405a-acee-a0ea36fce3e4",
   "metadata": {},
   "outputs": [
    {
     "data": {
      "text/html": [
       "<div>\n",
       "<style scoped>\n",
       "    .dataframe tbody tr th:only-of-type {\n",
       "        vertical-align: middle;\n",
       "    }\n",
       "\n",
       "    .dataframe tbody tr th {\n",
       "        vertical-align: top;\n",
       "    }\n",
       "\n",
       "    .dataframe thead th {\n",
       "        text-align: right;\n",
       "    }\n",
       "</style>\n",
       "<table border=\"1\" class=\"dataframe\">\n",
       "  <thead>\n",
       "    <tr style=\"text-align: right;\">\n",
       "      <th></th>\n",
       "      <th>SeniorCitizen</th>\n",
       "      <th>tenure</th>\n",
       "      <th>DeviceProtection</th>\n",
       "      <th>TechSupport</th>\n",
       "      <th>StreamingTV</th>\n",
       "      <th>StreamingMovies</th>\n",
       "      <th>MonthlyCharges</th>\n",
       "      <th>TotalCharges</th>\n",
       "      <th>Churn</th>\n",
       "      <th>PaymentMethod_Credit card (automatic)</th>\n",
       "      <th>PaymentMethod_Electronic check</th>\n",
       "      <th>PaymentMethod_Mailed check</th>\n",
       "      <th>PaymentMethod_sin valor</th>\n",
       "      <th>Contract_One year</th>\n",
       "      <th>Contract_Two year</th>\n",
       "      <th>Contract_sin valor</th>\n",
       "      <th>PhoneService_Yes</th>\n",
       "      <th>PhoneService_sin valor</th>\n",
       "      <th>Partner_Yes</th>\n",
       "      <th>Partner_sin valor</th>\n",
       "      <th>InternetService_Fiber optic</th>\n",
       "      <th>InternetService_No</th>\n",
       "      <th>InternetService_sin valor</th>\n",
       "      <th>MultipleLines_No phone service</th>\n",
       "      <th>MultipleLines_Yes</th>\n",
       "      <th>MultipleLines_sin valor</th>\n",
       "      <th>PaperlessBilling_Yes</th>\n",
       "      <th>PaperlessBilling_sin valor</th>\n",
       "      <th>OnlineSecurity_Yes</th>\n",
       "      <th>OnlineSecurity_sin valor</th>\n",
       "      <th>Dependents_Yes</th>\n",
       "      <th>Dependents_sin valor</th>\n",
       "      <th>gender_Male</th>\n",
       "      <th>gender_sin valor</th>\n",
       "      <th>OnlineBackup_Yes</th>\n",
       "      <th>OnlineBackup_sin valor</th>\n",
       "    </tr>\n",
       "  </thead>\n",
       "  <tbody>\n",
       "    <tr>\n",
       "      <th>1</th>\n",
       "      <td>0.0</td>\n",
       "      <td>34.0</td>\n",
       "      <td>1</td>\n",
       "      <td>0</td>\n",
       "      <td>0</td>\n",
       "      <td>0</td>\n",
       "      <td>0.00</td>\n",
       "      <td>1889.50</td>\n",
       "      <td>0</td>\n",
       "      <td>0</td>\n",
       "      <td>0</td>\n",
       "      <td>1</td>\n",
       "      <td>0</td>\n",
       "      <td>1</td>\n",
       "      <td>0</td>\n",
       "      <td>0</td>\n",
       "      <td>1</td>\n",
       "      <td>0</td>\n",
       "      <td>0</td>\n",
       "      <td>0</td>\n",
       "      <td>0</td>\n",
       "      <td>0</td>\n",
       "      <td>1</td>\n",
       "      <td>0</td>\n",
       "      <td>0</td>\n",
       "      <td>0</td>\n",
       "      <td>0</td>\n",
       "      <td>0</td>\n",
       "      <td>1</td>\n",
       "      <td>0</td>\n",
       "      <td>0</td>\n",
       "      <td>0</td>\n",
       "      <td>1</td>\n",
       "      <td>0</td>\n",
       "      <td>0</td>\n",
       "      <td>0</td>\n",
       "    </tr>\n",
       "    <tr>\n",
       "      <th>2</th>\n",
       "      <td>0.0</td>\n",
       "      <td>2.0</td>\n",
       "      <td>0</td>\n",
       "      <td>0</td>\n",
       "      <td>0</td>\n",
       "      <td>0</td>\n",
       "      <td>53.85</td>\n",
       "      <td>108.15</td>\n",
       "      <td>1</td>\n",
       "      <td>0</td>\n",
       "      <td>0</td>\n",
       "      <td>1</td>\n",
       "      <td>0</td>\n",
       "      <td>0</td>\n",
       "      <td>0</td>\n",
       "      <td>0</td>\n",
       "      <td>0</td>\n",
       "      <td>1</td>\n",
       "      <td>0</td>\n",
       "      <td>0</td>\n",
       "      <td>0</td>\n",
       "      <td>0</td>\n",
       "      <td>1</td>\n",
       "      <td>0</td>\n",
       "      <td>0</td>\n",
       "      <td>0</td>\n",
       "      <td>1</td>\n",
       "      <td>0</td>\n",
       "      <td>1</td>\n",
       "      <td>0</td>\n",
       "      <td>0</td>\n",
       "      <td>0</td>\n",
       "      <td>1</td>\n",
       "      <td>0</td>\n",
       "      <td>0</td>\n",
       "      <td>1</td>\n",
       "    </tr>\n",
       "    <tr>\n",
       "      <th>5</th>\n",
       "      <td>0.0</td>\n",
       "      <td>8.0</td>\n",
       "      <td>1</td>\n",
       "      <td>0</td>\n",
       "      <td>1</td>\n",
       "      <td>1</td>\n",
       "      <td>99.65</td>\n",
       "      <td>820.50</td>\n",
       "      <td>1</td>\n",
       "      <td>0</td>\n",
       "      <td>1</td>\n",
       "      <td>0</td>\n",
       "      <td>0</td>\n",
       "      <td>0</td>\n",
       "      <td>0</td>\n",
       "      <td>0</td>\n",
       "      <td>1</td>\n",
       "      <td>0</td>\n",
       "      <td>0</td>\n",
       "      <td>0</td>\n",
       "      <td>1</td>\n",
       "      <td>0</td>\n",
       "      <td>0</td>\n",
       "      <td>0</td>\n",
       "      <td>1</td>\n",
       "      <td>0</td>\n",
       "      <td>0</td>\n",
       "      <td>1</td>\n",
       "      <td>0</td>\n",
       "      <td>0</td>\n",
       "      <td>0</td>\n",
       "      <td>0</td>\n",
       "      <td>0</td>\n",
       "      <td>0</td>\n",
       "      <td>0</td>\n",
       "      <td>0</td>\n",
       "    </tr>\n",
       "  </tbody>\n",
       "</table>\n",
       "</div>"
      ],
      "text/plain": [
       "   SeniorCitizen  tenure  DeviceProtection  TechSupport  StreamingTV  \\\n",
       "1            0.0    34.0                 1            0            0   \n",
       "2            0.0     2.0                 0            0            0   \n",
       "5            0.0     8.0                 1            0            1   \n",
       "\n",
       "   StreamingMovies  MonthlyCharges  TotalCharges  Churn  \\\n",
       "1                0            0.00       1889.50      0   \n",
       "2                0           53.85        108.15      1   \n",
       "5                1           99.65        820.50      1   \n",
       "\n",
       "   PaymentMethod_Credit card (automatic)  PaymentMethod_Electronic check  \\\n",
       "1                                      0                               0   \n",
       "2                                      0                               0   \n",
       "5                                      0                               1   \n",
       "\n",
       "   PaymentMethod_Mailed check  PaymentMethod_sin valor  Contract_One year  \\\n",
       "1                           1                        0                  1   \n",
       "2                           1                        0                  0   \n",
       "5                           0                        0                  0   \n",
       "\n",
       "   Contract_Two year  Contract_sin valor  PhoneService_Yes  \\\n",
       "1                  0                   0                 1   \n",
       "2                  0                   0                 0   \n",
       "5                  0                   0                 1   \n",
       "\n",
       "   PhoneService_sin valor  Partner_Yes  Partner_sin valor  \\\n",
       "1                       0            0                  0   \n",
       "2                       1            0                  0   \n",
       "5                       0            0                  0   \n",
       "\n",
       "   InternetService_Fiber optic  InternetService_No  InternetService_sin valor  \\\n",
       "1                            0                   0                          1   \n",
       "2                            0                   0                          1   \n",
       "5                            1                   0                          0   \n",
       "\n",
       "   MultipleLines_No phone service  MultipleLines_Yes  MultipleLines_sin valor  \\\n",
       "1                               0                  0                        0   \n",
       "2                               0                  0                        0   \n",
       "5                               0                  1                        0   \n",
       "\n",
       "   PaperlessBilling_Yes  PaperlessBilling_sin valor  OnlineSecurity_Yes  \\\n",
       "1                     0                           0                   1   \n",
       "2                     1                           0                   1   \n",
       "5                     0                           1                   0   \n",
       "\n",
       "   OnlineSecurity_sin valor  Dependents_Yes  Dependents_sin valor  \\\n",
       "1                         0               0                     0   \n",
       "2                         0               0                     0   \n",
       "5                         0               0                     0   \n",
       "\n",
       "   gender_Male  gender_sin valor  OnlineBackup_Yes  OnlineBackup_sin valor  \n",
       "1            1                 0                 0                       0  \n",
       "2            1                 0                 0                       1  \n",
       "5            0                 0                 0                       0  "
      ]
     },
     "execution_count": 153,
     "metadata": {},
     "output_type": "execute_result"
    }
   ],
   "source": [
    "telco_opcion1.head(3)"
   ]
  },
  {
   "cell_type": "code",
   "execution_count": null,
   "id": "6385eca7-bd14-46d0-b371-df60096e4c09",
   "metadata": {},
   "outputs": [],
   "source": []
  },
  {
   "cell_type": "markdown",
   "id": "6e7f805d-27d3-492f-a20d-7ab7ad00481f",
   "metadata": {},
   "source": [
    "### Opcion 2"
   ]
  },
  {
   "cell_type": "code",
   "execution_count": 157,
   "id": "570566ad-0d6e-4949-8b3e-551df8bdcb7b",
   "metadata": {},
   "outputs": [],
   "source": [
    "telco_opcion2 = telco.copy()"
   ]
  },
  {
   "cell_type": "code",
   "execution_count": 159,
   "id": "e508429c-f792-4386-993a-13ab3dad8c75",
   "metadata": {},
   "outputs": [],
   "source": [
    "# Identifico y transformo columnas binarias\n",
    "binary_columns = [col for col in telco_opcion2.select_dtypes(include=['object']).columns if set(telco_opcion2[col].dropna().unique()) <= {'Yes', 'No', 'No'}]\n",
    "for column in binary_columns:\n",
    "    telco_opcion2[column] = telco_opcion2[column].map({'Yes': 1, 'No': 0})"
   ]
  },
  {
   "cell_type": "code",
   "execution_count": 161,
   "id": "ffe8890a-58d3-4a42-95b0-a1b1dc2042a9",
   "metadata": {},
   "outputs": [],
   "source": [
    "# Identifico y transformo columnas no binarias\n",
    "non_binary_categorical_columns = list(set(telco_opcion2.select_dtypes(include=['object']).columns) - set(binary_columns))\n",
    "telco_opcion2 = pd.get_dummies(telco_opcion2, columns=non_binary_categorical_columns, drop_first=True, dtype=int)"
   ]
  },
  {
   "cell_type": "code",
   "execution_count": 163,
   "id": "f286c122-fea5-4349-aeb9-f18339492ad4",
   "metadata": {},
   "outputs": [
    {
     "name": "stdout",
     "output_type": "stream",
     "text": [
      "   SeniorCitizen  tenure  DeviceProtection  TechSupport  StreamingTV  \\\n",
      "1            0.0    34.0                 1            0            0   \n",
      "2            0.0     2.0                 0            0            0   \n",
      "5            0.0     8.0                 1            0            1   \n",
      "6            0.0    22.0                 0            0            1   \n",
      "7            0.0    10.0                 0            0            0   \n",
      "\n",
      "   StreamingMovies  MonthlyCharges  TotalCharges  Churn  \\\n",
      "1                0            0.00       1889.50      0   \n",
      "2                0           53.85        108.15      1   \n",
      "5                1           99.65        820.50      1   \n",
      "6                0           89.10       1949.40      0   \n",
      "7                0           29.75        301.90      0   \n",
      "\n",
      "   PaymentMethod_Credit card (automatic)  PaymentMethod_Electronic check  \\\n",
      "1                                      0                               0   \n",
      "2                                      0                               0   \n",
      "5                                      0                               1   \n",
      "6                                      1                               0   \n",
      "7                                      0                               0   \n",
      "\n",
      "   PaymentMethod_Mailed check  PaymentMethod_sin valor  Contract_One year  \\\n",
      "1                           1                        0                  1   \n",
      "2                           1                        0                  0   \n",
      "5                           0                        0                  0   \n",
      "6                           0                        0                  0   \n",
      "7                           1                        0                  0   \n",
      "\n",
      "   Contract_Two year  Contract_sin valor  PhoneService_Yes  \\\n",
      "1                  0                   0                 1   \n",
      "2                  0                   0                 0   \n",
      "5                  0                   0                 1   \n",
      "6                  0                   1                 1   \n",
      "7                  0                   1                 0   \n",
      "\n",
      "   PhoneService_sin valor  Partner_Yes  Partner_sin valor  \\\n",
      "1                       0            0                  0   \n",
      "2                       1            0                  0   \n",
      "5                       0            0                  0   \n",
      "6                       0            0                  1   \n",
      "7                       0            0                  0   \n",
      "\n",
      "   InternetService_Fiber optic  InternetService_No  InternetService_sin valor  \\\n",
      "1                            0                   0                          1   \n",
      "2                            0                   0                          1   \n",
      "5                            1                   0                          0   \n",
      "6                            1                   0                          0   \n",
      "7                            0                   0                          0   \n",
      "\n",
      "   MultipleLines_No phone service  MultipleLines_Yes  MultipleLines_sin valor  \\\n",
      "1                               0                  0                        0   \n",
      "2                               0                  0                        0   \n",
      "5                               0                  1                        0   \n",
      "6                               0                  1                        0   \n",
      "7                               1                  0                        0   \n",
      "\n",
      "   PaperlessBilling_Yes  PaperlessBilling_sin valor  OnlineSecurity_Yes  \\\n",
      "1                     0                           0                   1   \n",
      "2                     1                           0                   1   \n",
      "5                     0                           1                   0   \n",
      "6                     1                           0                   0   \n",
      "7                     0                           1                   1   \n",
      "\n",
      "   OnlineSecurity_sin valor  Dependents_Yes  Dependents_sin valor  \\\n",
      "1                         0               0                     0   \n",
      "2                         0               0                     0   \n",
      "5                         0               0                     0   \n",
      "6                         0               1                     0   \n",
      "7                         0               0                     0   \n",
      "\n",
      "   gender_Male  gender_sin valor  OnlineBackup_Yes  OnlineBackup_sin valor  \n",
      "1            1                 0                 0                       0  \n",
      "2            1                 0                 0                       1  \n",
      "5            0                 0                 0                       0  \n",
      "6            1                 0                 1                       0  \n",
      "7            0                 1                 0                       0  \n"
     ]
    }
   ],
   "source": [
    "# Verifico el resultado\n",
    "print(telco_opcion2.head())"
   ]
  },
  {
   "cell_type": "markdown",
   "id": "55ff1748-1d55-43e2-af74-b356c156f8ba",
   "metadata": {},
   "source": [
    "#### Analizo correlacion entre las variables"
   ]
  },
  {
   "cell_type": "code",
   "execution_count": 166,
   "id": "6bdfce66-9cc7-473e-b212-2720341f21f9",
   "metadata": {},
   "outputs": [],
   "source": [
    "# Calculo matriz de correlación\n",
    "correlation_matrix = telco_opcion2.corr()"
   ]
  },
  {
   "cell_type": "code",
   "execution_count": 168,
   "id": "efea9db2-2882-4222-85d6-81d7865b1b38",
   "metadata": {},
   "outputs": [],
   "source": [
    "# Extraigo la correlación con 'Churn'\n",
    "correlation_with_churn = correlation_matrix['Churn'].sort_values(ascending=False)"
   ]
  },
  {
   "cell_type": "code",
   "execution_count": 170,
   "id": "c0e10a1c-1bbe-4538-b50f-0f367ba75f7b",
   "metadata": {},
   "outputs": [
    {
     "name": "stdout",
     "output_type": "stream",
     "text": [
      "Churn                                    1.000000\n",
      "PaymentMethod_Electronic check           0.268756\n",
      "InternetService_Fiber optic              0.266611\n",
      "PaperlessBilling_Yes                     0.157999\n",
      "SeniorCitizen                            0.153428\n",
      "MonthlyCharges                           0.112206\n",
      "StreamingTV                              0.075277\n",
      "StreamingMovies                          0.061873\n",
      "MultipleLines_sin valor                  0.030121\n",
      "OnlineBackup_sin valor                   0.022006\n",
      "InternetService_sin valor                0.021367\n",
      "MultipleLines_Yes                        0.019324\n",
      "PhoneService_Yes                         0.016072\n",
      "gender_Male                              0.011912\n",
      "Dependents_sin valor                     0.005044\n",
      "Partner_sin valor                        0.001336\n",
      "gender_sin valor                        -0.001925\n",
      "PhoneService_sin valor                  -0.002323\n",
      "PaperlessBilling_sin valor              -0.004757\n",
      "OnlineSecurity_sin valor                -0.006908\n",
      "Contract_sin valor                      -0.010892\n",
      "PaymentMethod_sin valor                 -0.011118\n",
      "MultipleLines_No phone service          -0.018247\n",
      "DeviceProtection                        -0.063906\n",
      "OnlineBackup_Yes                        -0.076800\n",
      "PaymentMethod_Mailed check              -0.077465\n",
      "PaymentMethod_Credit card (automatic)   -0.114227\n",
      "Partner_Yes                             -0.127306\n",
      "Dependents_Yes                          -0.138880\n",
      "OnlineSecurity_Yes                      -0.145924\n",
      "Contract_One year                       -0.153524\n",
      "TechSupport                             -0.161600\n",
      "TotalCharges                            -0.204083\n",
      "InternetService_No                      -0.210566\n",
      "Contract_Two year                       -0.266202\n",
      "tenure                                  -0.361297\n",
      "Name: Churn, dtype: float64\n"
     ]
    }
   ],
   "source": [
    "# Muestro las correlaciones\n",
    "print(correlation_with_churn)"
   ]
  },
  {
   "cell_type": "code",
   "execution_count": 172,
   "id": "c5a493eb-8b62-4a2a-8581-9ce39611667f",
   "metadata": {},
   "outputs": [
    {
     "name": "stderr",
     "output_type": "stream",
     "text": [
      "C:\\Users\\joaqpach\\AppData\\Local\\Temp\\ipykernel_37840\\2138996800.py:3: FutureWarning: \n",
      "\n",
      "Passing `palette` without assigning `hue` is deprecated and will be removed in v0.14.0. Assign the `x` variable to `hue` and set `legend=False` for the same effect.\n",
      "\n",
      "  sns.barplot(x=correlation_with_churn.index, y=correlation_with_churn.values, palette='coolwarm')\n"
     ]
    },
    {
     "data": {
      "image/png": "[encoded data removed]",
      "text/plain": [
       "<Figure size 1000x600 with 1 Axes>"
      ]
     },
     "metadata": {},
     "output_type": "display_data"
    }
   ],
   "source": [
    "# Visualizo las correlaciones con un gráfico de barras\n",
    "plt.figure(figsize=(10, 6))\n",
    "sns.barplot(x=correlation_with_churn.index, y=correlation_with_churn.values, palette='coolwarm')\n",
    "plt.xticks(rotation=90)\n",
    "plt.title('Correlación de Variables con Churn')\n",
    "plt.xlabel('Variables')\n",
    "plt.ylabel('Correlación')\n",
    "plt.tight_layout()\n",
    "plt.show()"
   ]
  },
  {
   "cell_type": "code",
   "execution_count": 174,
   "id": "7e25079f-34c4-4740-9e95-ceed7a6edb9a",
   "metadata": {},
   "outputs": [],
   "source": [
    "#Elimino las variables cuya correlacion sea menor al 0,05"
   ]
  },
  {
   "cell_type": "code",
   "execution_count": 176,
   "id": "591133fe-4a76-451d-9ecf-be176e0517f4",
   "metadata": {},
   "outputs": [],
   "source": [
    "threshold = 0.05 "
   ]
  },
  {
   "cell_type": "code",
   "execution_count": 178,
   "id": "3250df01-c738-45a1-bd1d-00807648f535",
   "metadata": {},
   "outputs": [],
   "source": [
    "less_relevant_variables = correlation_with_churn[correlation_with_churn.abs() < threshold]"
   ]
  },
  {
   "cell_type": "code",
   "execution_count": 180,
   "id": "d0282bc1-ce16-4728-90cf-b807f60f24c2",
   "metadata": {},
   "outputs": [
    {
     "name": "stdout",
     "output_type": "stream",
     "text": [
      "\n",
      "Variables con menor relevancia:\n",
      "MultipleLines_sin valor           0.030121\n",
      "OnlineBackup_sin valor            0.022006\n",
      "InternetService_sin valor         0.021367\n",
      "MultipleLines_Yes                 0.019324\n",
      "PhoneService_Yes                  0.016072\n",
      "gender_Male                       0.011912\n",
      "Dependents_sin valor              0.005044\n",
      "Partner_sin valor                 0.001336\n",
      "gender_sin valor                 -0.001925\n",
      "PhoneService_sin valor           -0.002323\n",
      "PaperlessBilling_sin valor       -0.004757\n",
      "OnlineSecurity_sin valor         -0.006908\n",
      "Contract_sin valor               -0.010892\n",
      "PaymentMethod_sin valor          -0.011118\n",
      "MultipleLines_No phone service   -0.018247\n",
      "Name: Churn, dtype: float64\n"
     ]
    }
   ],
   "source": [
    "print(\"\\nVariables con menor relevancia:\")\n",
    "print(less_relevant_variables)"
   ]
  },
  {
   "cell_type": "code",
   "execution_count": 182,
   "id": "bfe8b5e0-aa15-4741-9708-10b424a3e0ce",
   "metadata": {},
   "outputs": [],
   "source": [
    "telco_reduced = telco_opcion2.drop(columns=less_relevant_variables.index)"
   ]
  },
  {
   "cell_type": "code",
   "execution_count": 184,
   "id": "99c37194-2dda-4b4c-865f-74c76a7de197",
   "metadata": {},
   "outputs": [
    {
     "name": "stdout",
     "output_type": "stream",
     "text": [
      "Nos quedamos con un data-set de 5320 filas x21 columnas\n"
     ]
    }
   ],
   "source": [
    "print(f'Nos quedamos con un data-set de {telco_reduced.shape[0]} filas x{telco_reduced.shape[1]} columnas')"
   ]
  },
  {
   "cell_type": "code",
   "execution_count": 186,
   "id": "006e97d4-19c9-4c83-b313-963c0b7a6096",
   "metadata": {},
   "outputs": [
    {
     "data": {
      "text/html": [
       "<div>\n",
       "<style scoped>\n",
       "    .dataframe tbody tr th:only-of-type {\n",
       "        vertical-align: middle;\n",
       "    }\n",
       "\n",
       "    .dataframe tbody tr th {\n",
       "        vertical-align: top;\n",
       "    }\n",
       "\n",
       "    .dataframe thead th {\n",
       "        text-align: right;\n",
       "    }\n",
       "</style>\n",
       "<table border=\"1\" class=\"dataframe\">\n",
       "  <thead>\n",
       "    <tr style=\"text-align: right;\">\n",
       "      <th></th>\n",
       "      <th>SeniorCitizen</th>\n",
       "      <th>tenure</th>\n",
       "      <th>DeviceProtection</th>\n",
       "      <th>TechSupport</th>\n",
       "      <th>StreamingTV</th>\n",
       "      <th>StreamingMovies</th>\n",
       "      <th>MonthlyCharges</th>\n",
       "      <th>TotalCharges</th>\n",
       "      <th>Churn</th>\n",
       "      <th>PaymentMethod_Credit card (automatic)</th>\n",
       "      <th>PaymentMethod_Electronic check</th>\n",
       "      <th>PaymentMethod_Mailed check</th>\n",
       "      <th>Contract_One year</th>\n",
       "      <th>Contract_Two year</th>\n",
       "      <th>Partner_Yes</th>\n",
       "      <th>InternetService_Fiber optic</th>\n",
       "      <th>InternetService_No</th>\n",
       "      <th>PaperlessBilling_Yes</th>\n",
       "      <th>OnlineSecurity_Yes</th>\n",
       "      <th>Dependents_Yes</th>\n",
       "      <th>OnlineBackup_Yes</th>\n",
       "    </tr>\n",
       "  </thead>\n",
       "  <tbody>\n",
       "    <tr>\n",
       "      <th>1</th>\n",
       "      <td>0.0</td>\n",
       "      <td>34.0</td>\n",
       "      <td>1</td>\n",
       "      <td>0</td>\n",
       "      <td>0</td>\n",
       "      <td>0</td>\n",
       "      <td>0.00</td>\n",
       "      <td>1889.50</td>\n",
       "      <td>0</td>\n",
       "      <td>0</td>\n",
       "      <td>0</td>\n",
       "      <td>1</td>\n",
       "      <td>1</td>\n",
       "      <td>0</td>\n",
       "      <td>0</td>\n",
       "      <td>0</td>\n",
       "      <td>0</td>\n",
       "      <td>0</td>\n",
       "      <td>1</td>\n",
       "      <td>0</td>\n",
       "      <td>0</td>\n",
       "    </tr>\n",
       "    <tr>\n",
       "      <th>2</th>\n",
       "      <td>0.0</td>\n",
       "      <td>2.0</td>\n",
       "      <td>0</td>\n",
       "      <td>0</td>\n",
       "      <td>0</td>\n",
       "      <td>0</td>\n",
       "      <td>53.85</td>\n",
       "      <td>108.15</td>\n",
       "      <td>1</td>\n",
       "      <td>0</td>\n",
       "      <td>0</td>\n",
       "      <td>1</td>\n",
       "      <td>0</td>\n",
       "      <td>0</td>\n",
       "      <td>0</td>\n",
       "      <td>0</td>\n",
       "      <td>0</td>\n",
       "      <td>1</td>\n",
       "      <td>1</td>\n",
       "      <td>0</td>\n",
       "      <td>0</td>\n",
       "    </tr>\n",
       "    <tr>\n",
       "      <th>5</th>\n",
       "      <td>0.0</td>\n",
       "      <td>8.0</td>\n",
       "      <td>1</td>\n",
       "      <td>0</td>\n",
       "      <td>1</td>\n",
       "      <td>1</td>\n",
       "      <td>99.65</td>\n",
       "      <td>820.50</td>\n",
       "      <td>1</td>\n",
       "      <td>0</td>\n",
       "      <td>1</td>\n",
       "      <td>0</td>\n",
       "      <td>0</td>\n",
       "      <td>0</td>\n",
       "      <td>0</td>\n",
       "      <td>1</td>\n",
       "      <td>0</td>\n",
       "      <td>0</td>\n",
       "      <td>0</td>\n",
       "      <td>0</td>\n",
       "      <td>0</td>\n",
       "    </tr>\n",
       "  </tbody>\n",
       "</table>\n",
       "</div>"
      ],
      "text/plain": [
       "   SeniorCitizen  tenure  DeviceProtection  TechSupport  StreamingTV  \\\n",
       "1            0.0    34.0                 1            0            0   \n",
       "2            0.0     2.0                 0            0            0   \n",
       "5            0.0     8.0                 1            0            1   \n",
       "\n",
       "   StreamingMovies  MonthlyCharges  TotalCharges  Churn  \\\n",
       "1                0            0.00       1889.50      0   \n",
       "2                0           53.85        108.15      1   \n",
       "5                1           99.65        820.50      1   \n",
       "\n",
       "   PaymentMethod_Credit card (automatic)  PaymentMethod_Electronic check  \\\n",
       "1                                      0                               0   \n",
       "2                                      0                               0   \n",
       "5                                      0                               1   \n",
       "\n",
       "   PaymentMethod_Mailed check  Contract_One year  Contract_Two year  \\\n",
       "1                           1                  1                  0   \n",
       "2                           1                  0                  0   \n",
       "5                           0                  0                  0   \n",
       "\n",
       "   Partner_Yes  InternetService_Fiber optic  InternetService_No  \\\n",
       "1            0                            0                   0   \n",
       "2            0                            0                   0   \n",
       "5            0                            1                   0   \n",
       "\n",
       "   PaperlessBilling_Yes  OnlineSecurity_Yes  Dependents_Yes  OnlineBackup_Yes  \n",
       "1                     0                   1               0                 0  \n",
       "2                     1                   1               0                 0  \n",
       "5                     0                   0               0                 0  "
      ]
     },
     "execution_count": 186,
     "metadata": {},
     "output_type": "execute_result"
    }
   ],
   "source": [
    "telco_reduced.head(3)"
   ]
  },
  {
   "cell_type": "code",
   "execution_count": null,
   "id": "e449a36e-5902-4325-b0a9-ff82c14ce993",
   "metadata": {},
   "outputs": [],
   "source": []
  },
  {
   "cell_type": "markdown",
   "id": "69d91885-f9b0-4604-8ebe-da81930876c2",
   "metadata": {},
   "source": [
    "# **3) Entrenamiento del modelo**"
   ]
  },
  {
   "cell_type": "code",
   "execution_count": 190,
   "id": "7f9e04bd-cd3e-41a5-88af-a8d78883c89a",
   "metadata": {},
   "outputs": [],
   "source": [
    "# Creo funcion para configurar y evaluar modelo\n",
    "def configurar_y_evaluar_modelo(X_train, y_train, estimador):\n",
    "    pipeline = Pipeline(\n",
    "        steps=[\n",
    "            (\"preprocesamiento\", ColumnTransformer(\n",
    "                transformers=[\n",
    "                    (\"num\", StandardScaler(), X_train.select_dtypes(include=[np.number]).columns)\n",
    "                ]\n",
    "            )),\n",
    "            (\"pca\", PCA(n_components=10)),\n",
    "            (\"estimador\", estimador)\n",
    "        ]\n",
    "    )\n",
    "\n",
    "    cv_scores = cross_val_score(pipeline, X_train, y_train, cv=5, scoring='accuracy')\n",
    "    mean_cv_score = np.mean(cv_scores)\n",
    "    \n",
    "    return mean_cv_score, pipeline"
   ]
  },
  {
   "cell_type": "code",
   "execution_count": 192,
   "id": "75aeba79-e4f7-456c-93a3-bd41f4d0c8ce",
   "metadata": {},
   "outputs": [],
   "source": [
    "# Creo funcion para entrenar y evaluar cada dataset dado\n",
    "def entrenar_evaluar(dataset):\n",
    "    X = dataset.drop(columns='Churn')\n",
    "    y = dataset['Churn']\n",
    "\n",
    "    assert X.isnull().sum().sum() == 0, \"Todavía hay NaNs en X\"\n",
    "    \n",
    "    X_train, X_test, y_train, y_test = train_test_split(X, y, test_size=0.20, random_state=42)\n",
    "\n",
    "    modelos = {\n",
    "        \"Logistic Regression\": LogisticRegression(max_iter=1000),\n",
    "        \"Random Forest\": RandomForestClassifier(),\n",
    "        \"SVC\": SVC(probability=True)\n",
    "    }\n",
    "\n",
    "    resultados = {}\n",
    "    for nombre, modelo in modelos.items():\n",
    "        score, pipeline = configurar_y_evaluar_modelo(X_train, y_train, modelo)\n",
    "        resultados[nombre] = (score, pipeline)\n",
    "        print(f\"{nombre} Score: {score:.2f}\")\n",
    "\n",
    "    # Selecciono el mejor modelo en funcion del score\n",
    "    mejor_modelo = max(resultados, key=lambda k: resultados[k][0])\n",
    "    mejor_score = resultados[mejor_modelo][0]\n",
    "    mejor_pipeline = resultados[mejor_modelo][1]\n",
    "\n",
    "    # Entreno el mejor modelo y obtengo predicciones\n",
    "    mejor_pipeline.fit(X_train, y_train)\n",
    "    y_pred = mejor_pipeline.predict(X_test)\n",
    "    \n",
    "    # Grafico la matriz de confusion del mejor modelo\n",
    "    cm = confusion_matrix(y_test, y_pred)\n",
    "    plt.figure(figsize=(8, 6))\n",
    "    sns.heatmap(cm, annot=True, fmt='d', cmap='Blues')\n",
    "    plt.title(f'Matriz de Confusión - {mejor_modelo}')\n",
    "    plt.ylabel('Real')\n",
    "    plt.xlabel('Predicción')\n",
    "    plt.show()\n",
    "\n",
    "    return resultados, mejor_score, mejor_modelo"
   ]
  },
  {
   "cell_type": "code",
   "execution_count": 200,
   "id": "ec12923c-613c-4095-8d5a-9c137d0da673",
   "metadata": {},
   "outputs": [
    {
     "name": "stdout",
     "output_type": "stream",
     "text": [
      "Logistic Regression Score: 0.79\n",
      "Random Forest Score: 0.78\n",
      "SVC Score: 0.78\n"
     ]
    },
    {
     "data": {
      "image/png": "[encoded data removed]",
      "text/plain": [
       "<Figure size 800x600 with 2 Axes>"
      ]
     },
     "metadata": {},
     "output_type": "display_data"
    },
    {
     "name": "stdout",
     "output_type": "stream",
     "text": [
      "Logistic Regression Score: 0.80\n",
      "Random Forest Score: 0.78\n",
      "SVC Score: 0.79\n"
     ]
    },
    {
     "data": {
      "image/png": "[encoded data removed]",
      "text/plain": [
       "<Figure size 800x600 with 2 Axes>"
      ]
     },
     "metadata": {},
     "output_type": "display_data"
    }
   ],
   "source": [
    "# Entreno y compararo resultados para los dos datasets\n",
    "resultados_opcion1, mejor_score_opcion1, mejor_modelo_opcion1 = entrenar_evaluar(telco_opcion1)\n",
    "resultados_reduced, mejor_score_reduced, mejor_modelo_reduced = entrenar_evaluar(telco_reduced)"
   ]
  },
  {
   "cell_type": "code",
   "execution_count": 201,
   "id": "02732468-c426-4bde-a270-ad261af25225",
   "metadata": {},
   "outputs": [
    {
     "name": "stdout",
     "output_type": "stream",
     "text": [
      "El mejor dataset es telco_reduced con un score de 0.80 utilizando el modelo Logistic Regression.\n"
     ]
    }
   ],
   "source": [
    "# Busco cual es el mejor dataset y modelo\n",
    "if mejor_score_opcion1 > mejor_score_reduced:\n",
    "    mejor_dataset = 'telco_opcion1'\n",
    "    mejor_score = mejor_score_opcion1\n",
    "    mejor_modelo = mejor_modelo_opcion1\n",
    "else:\n",
    "    mejor_dataset = 'telco_reduced'\n",
    "    mejor_score = mejor_score_reduced\n",
    "    mejor_modelo = mejor_modelo_reduced\n",
    "\n",
    "print(f\"El mejor dataset es {mejor_dataset} con un score de {mejor_score:.2f} utilizando el modelo {mejor_modelo}.\")"
   ]
  },
  {
   "cell_type": "code",
   "execution_count": 202,
   "id": "c8691a03-f953-46bf-8bf0-079ae084513d",
   "metadata": {},
   "outputs": [
    {
     "data": {
      "image/png": "[encoded data removed]",
      "text/plain": [
       "<Figure size 1000x600 with 1 Axes>"
      ]
     },
     "metadata": {},
     "output_type": "display_data"
    },
    {
     "data": {
      "image/png": "[encoded data removed]",
      "text/plain": [
       "<Figure size 1000x600 with 1 Axes>"
      ]
     },
     "metadata": {},
     "output_type": "display_data"
    }
   ],
   "source": [
    "# Grafico los scores de los modelos para cada dataset\n",
    "def graficar_resultados(resultados, dataset_name):\n",
    "    labels = resultados.keys()\n",
    "    scores = [resultados[label][0] for label in labels]\n",
    "\n",
    "    plt.figure(figsize=(10, 6))\n",
    "    plt.bar(labels, scores, color=['blue', 'green', 'red'])\n",
    "    plt.ylabel('Cross-validated Accuracy Score')\n",
    "    plt.title(f'Comparación de Scores entre Modelos - {dataset_name}')\n",
    "    plt.ylim(0, 1)\n",
    "    plt.show()\n",
    "\n",
    "graficar_resultados(resultados_opcion1, 'telco_opcion1')\n",
    "graficar_resultados(resultados_reduced, 'telco_reduced')"
   ]
  },
  {
   "cell_type": "code",
   "execution_count": null,
   "id": "94f19259-2cc6-4670-8fb6-2d909a793ee3",
   "metadata": {},
   "outputs": [],
   "source": []
  },
  {
   "cell_type": "code",
   "execution_count": null,
   "id": "0a820535-ae4c-48a1-b0d3-53baaccfb3fd",
   "metadata": {},
   "outputs": [],
   "source": []
  },
  {
   "cell_type": "code",
   "execution_count": null,
   "id": "a28454d6-afb3-4187-bf64-252faa4bb883",
   "metadata": {},
   "outputs": [],
   "source": []
  },
  {
   "cell_type": "code",
   "execution_count": null,
   "id": "2b00cbc7-aedc-4ddc-8963-2fbd065f848a",
   "metadata": {},
   "outputs": [],
   "source": []
  },
  {
   "cell_type": "code",
   "execution_count": null,
   "id": "a8baa32f-2a1e-483e-a879-8aff38a33eb8",
   "metadata": {},
   "outputs": [],
   "source": []
  }
 ],
 "metadata": {
  "kernelspec": {
   "display_name": "Python 3 (ipykernel)",
   "language": "python",
   "name": "python3"
  },
  "language_info": {
   "codemirror_mode": {
    "name": "ipython",
    "version": 3
   },
   "file_extension": ".py",
   "mimetype": "text/x-python",
   "name": "python",
   "nbconvert_exporter": "python",
   "pygments_lexer": "ipython3",
   "version": "3.12.4"
  }
 },
 "nbformat": 4,
 "nbformat_minor": 5
}
