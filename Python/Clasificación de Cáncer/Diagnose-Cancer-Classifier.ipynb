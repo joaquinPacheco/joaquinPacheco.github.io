{
 "cells": [
  {
   "cell_type": "markdown",
   "id": "ded92771-9e1d-4d78-b910-4e5fe17aba16",
   "metadata": {},
   "source": [
    "# Descripción del Caso a Resolver\r\n",
    "\r\n",
    "\r\n",
    "Este proyecto tiene como objetivo desarrollar un clasificador para ayudar en el diagnóstico de pacientes con cáncer de mama, utilizando el conjunto de datos de diagnóstico de cáncer de mama de Wisconsin. Este conjunto de datos incluye características extraídas de imágenes digitalizadas de aspiraciones con aguja fina (FNA) de una masa mamaria. El clasificador se desarrollará usando la librería scikit-learn de Python, y utilizará el modelo K-Nearest Neighbors (KNN) para clasificar las muestras como malignas o benignas.\r\n",
    "\r\n",
    "\r\n",
    "## Objetivos del Proyecto\r\n",
    "\r\n",
    "\r\n",
    "### Exploración del Conjunto de Datos: Comprender la estructura y las características del conjunto de datos de diagnóstico de cáncer de mama de Wisconsin, incluyendo el número de características y su descripción.\r\n",
    "\r\n",
    "### Conversión de Datos: Practicar la conversión del conjunto de datos de sklearn a un DataFrame de pandas para facilitar el manejo y análisis de datos.\r\n",
    "\r\n",
    "### Distribución de Clases: Analizar y comprender la distribución de las clases en el conjunto de datos, determinando cuántas muestras son malignas y cuántas son benignas.\r\n",
    "\r\n",
    "### Preparación de Datos: Separar el conjunto de datos en características (X) y etiquetas (y), y dividirlos en conjuntos de entrenamiento y prueba para la validación del modelo.\r\n",
    "\r\n",
    "### Entrenamiento del Modelo: Entrenar un clasificador KNN utilizando el conjunto de entrenamiento, y ajustar el modelo para optimizar su rendimiento.\r\n",
    "\r\n",
    "### Evaluación del Modelo: Evaluar la precisión del modelo usando el conjunto de prueba y determinar su efectividad en la clasificación de nuevas muestras.\r\n",
    "\r\n",
    "### Predicción y Análisis: Realizar predicciones sobre las muestras y analizar los resultados, incluyendo la predicción de etiquetas para un conjunto de características promedio.\r\n",
    "\r\n",
    "\r\n",
    "Este documento detalla los pasos necesarios para lograr estos objetivos, desde la carga de datos hasta la evaluación del modelo, proporcionando un marco para el diagnóstico asistido por máquina del cáncer de mama."
   ]
  },
  {
   "cell_type": "code",
   "execution_count": 1,
   "id": "b19e8a7c-3521-4dc8-861e-cbf162bb7885",
   "metadata": {},
   "outputs": [
    {
     "name": "stdout",
     "output_type": "stream",
     "text": [
      ".. _breast_cancer_dataset:\n",
      "\n",
      "Breast cancer wisconsin (diagnostic) dataset\n",
      "--------------------------------------------\n",
      "\n",
      "**Data Set Characteristics:**\n",
      "\n",
      ":Number of Instances: 569\n",
      "\n",
      ":Number of Attributes: 30 numeric, predictive attributes and the class\n",
      "\n",
      ":Attribute Information:\n",
      "    - radius (mean of distances from center to points on the perimeter)\n",
      "    - texture (standard deviation of gray-scale values)\n",
      "    - perimeter\n",
      "    - area\n",
      "    - smoothness (local variation in radius lengths)\n",
      "    - compactness (perimeter^2 / area - 1.0)\n",
      "    - concavity (severity of concave portions of the contour)\n",
      "    - concave points (number of concave portions of the contour)\n",
      "    - symmetry\n",
      "    - fractal dimension (\"coastline approximation\" - 1)\n",
      "\n",
      "    The mean, standard error, and \"worst\" or largest (mean of the three\n",
      "    worst/largest values) of these features were computed for each image,\n",
      "    resulting in 30 features.  For instance, field 0 is Mean Radius, field\n",
      "    10 is Radius SE, field 20 is Worst Radius.\n",
      "\n",
      "    - class:\n",
      "            - WDBC-Malignant\n",
      "            - WDBC-Benign\n",
      "\n",
      ":Summary Statistics:\n",
      "\n",
      "===================================== ====== ======\n",
      "                                        Min    Max\n",
      "===================================== ====== ======\n",
      "radius (mean):                        6.981  28.11\n",
      "texture (mean):                       9.71   39.28\n",
      "perimeter (mean):                     43.79  188.5\n",
      "area (mean):                          143.5  2501.0\n",
      "smoothness (mean):                    0.053  0.163\n",
      "compactness (mean):                   0.019  0.345\n",
      "concavity (mean):                     0.0    0.427\n",
      "concave points (mean):                0.0    0.201\n",
      "symmetry (mean):                      0.106  0.304\n",
      "fractal dimension (mean):             0.05   0.097\n",
      "radius (standard error):              0.112  2.873\n",
      "texture (standard error):             0.36   4.885\n",
      "perimeter (standard error):           0.757  21.98\n",
      "area (standard error):                6.802  542.2\n",
      "smoothness (standard error):          0.002  0.031\n",
      "compactness (standard error):         0.002  0.135\n",
      "concavity (standard error):           0.0    0.396\n",
      "concave points (standard error):      0.0    0.053\n",
      "symmetry (standard error):            0.008  0.079\n",
      "fractal dimension (standard error):   0.001  0.03\n",
      "radius (worst):                       7.93   36.04\n",
      "texture (worst):                      12.02  49.54\n",
      "perimeter (worst):                    50.41  251.2\n",
      "area (worst):                         185.2  4254.0\n",
      "smoothness (worst):                   0.071  0.223\n",
      "compactness (worst):                  0.027  1.058\n",
      "concavity (worst):                    0.0    1.252\n",
      "concave points (worst):               0.0    0.291\n",
      "symmetry (worst):                     0.156  0.664\n",
      "fractal dimension (worst):            0.055  0.208\n",
      "===================================== ====== ======\n",
      "\n",
      ":Missing Attribute Values: None\n",
      "\n",
      ":Class Distribution: 212 - Malignant, 357 - Benign\n",
      "\n",
      ":Creator:  Dr. William H. Wolberg, W. Nick Street, Olvi L. Mangasarian\n",
      "\n",
      ":Donor: Nick Street\n",
      "\n",
      ":Date: November, 1995\n",
      "\n",
      "This is a copy of UCI ML Breast Cancer Wisconsin (Diagnostic) datasets.\n",
      "https://goo.gl/U2Uwz2\n",
      "\n",
      "Features are computed from a digitized image of a fine needle\n",
      "aspirate (FNA) of a breast mass.  They describe\n",
      "characteristics of the cell nuclei present in the image.\n",
      "\n",
      "Separating plane described above was obtained using\n",
      "Multisurface Method-Tree (MSM-T) [K. P. Bennett, \"Decision Tree\n",
      "Construction Via Linear Programming.\" Proceedings of the 4th\n",
      "Midwest Artificial Intelligence and Cognitive Science Society,\n",
      "pp. 97-101, 1992], a classification method which uses linear\n",
      "programming to construct a decision tree.  Relevant features\n",
      "were selected using an exhaustive search in the space of 1-4\n",
      "features and 1-3 separating planes.\n",
      "\n",
      "The actual linear program used to obtain the separating plane\n",
      "in the 3-dimensional space is that described in:\n",
      "[K. P. Bennett and O. L. Mangasarian: \"Robust Linear\n",
      "Programming Discrimination of Two Linearly Inseparable Sets\",\n",
      "Optimization Methods and Software 1, 1992, 23-34].\n",
      "\n",
      "This database is also available through the UW CS ftp server:\n",
      "\n",
      "ftp ftp.cs.wisc.edu\n",
      "cd math-prog/cpo-dataset/machine-learn/WDBC/\n",
      "\n",
      "|details-start|\n",
      "**References**\n",
      "|details-split|\n",
      "\n",
      "- W.N. Street, W.H. Wolberg and O.L. Mangasarian. Nuclear feature extraction\n",
      "  for breast tumor diagnosis. IS&T/SPIE 1993 International Symposium on\n",
      "  Electronic Imaging: Science and Technology, volume 1905, pages 861-870,\n",
      "  San Jose, CA, 1993.\n",
      "- O.L. Mangasarian, W.N. Street and W.H. Wolberg. Breast cancer diagnosis and\n",
      "  prognosis via linear programming. Operations Research, 43(4), pages 570-577,\n",
      "  July-August 1995.\n",
      "- W.H. Wolberg, W.N. Street, and O.L. Mangasarian. Machine learning techniques\n",
      "  to diagnose breast cancer from fine-needle aspirates. Cancer Letters 77 (1994)\n",
      "  163-171.\n",
      "\n",
      "|details-end|\n",
      "\n"
     ]
    }
   ],
   "source": [
    "import numpy as np\n",
    "import pandas as pd\n",
    "from sklearn.datasets import load_breast_cancer\n",
    "\n",
    "cancer = load_breast_cancer()\n",
    "\n",
    "print(cancer.DESCR) "
   ]
  },
  {
   "cell_type": "code",
   "execution_count": null,
   "id": "346266ed-6dba-4a98-81b7-b38e0be336c6",
   "metadata": {},
   "outputs": [],
   "source": []
  },
  {
   "cell_type": "code",
   "execution_count": 65,
   "id": "131350b0-8863-4c5a-9405-17ceda90f7e4",
   "metadata": {},
   "outputs": [
    {
     "data": {
      "text/plain": [
       "dict_keys(['data', 'target', 'frame', 'target_names', 'DESCR', 'feature_names', 'filename', 'data_module'])"
      ]
     },
     "execution_count": 65,
     "metadata": {},
     "output_type": "execute_result"
    }
   ],
   "source": [
    "cancer.keys()"
   ]
  },
  {
   "cell_type": "markdown",
   "id": "98ed01e2-729f-4bb8-9624-539485f222dc",
   "metadata": {},
   "source": [
    "### Question 0 (Example)\n",
    "How many features does the breast cancer dataset have?"
   ]
  },
  {
   "cell_type": "code",
   "execution_count": 68,
   "id": "e8b1b401-a4a3-4f62-b808-634c5eb24d78",
   "metadata": {},
   "outputs": [
    {
     "name": "stdout",
     "output_type": "stream",
     "text": [
      "30\n"
     ]
    }
   ],
   "source": [
    "def answer_zero():\n",
    "        return cancer.data.shape[1]\n",
    "print(answer_zero())"
   ]
  },
  {
   "cell_type": "markdown",
   "id": "4e1f141a-bef4-40b2-83b9-4760cc0d7741",
   "metadata": {},
   "source": [
    "### Question 1\r\n",
    "\r\n",
    "Scikit-learn works with lists, numpy arrays, scipy-sparse matrices, and pandas DataFrames, so converting the dataset to a DataFrame is not necessary for training this model. Using a DataFrame does however help make many things easier such as munging data, so let's practice creating a classifier with a pandas DataFrame. \r\n",
    "\r\n",
    "\r\n",
    "\r\n",
    "Convert the sklearn.dataset `cancer` to a DataFrame. \r\n",
    "\r\n",
    "*This function should return a `(569, 31)` DataFrame with * \r\n",
    "\r\n",
    "*columns = *\r\n",
    "\r\n",
    "    ['mean radius', 'mean texture', 'mean perimeter', 'mean area',\r\n",
    "    'mean smoothness', 'mean compactness', 'mean concavity',\r\n",
    "    'mean concave points', 'mean symmetry', 'mean fractal dimension',\r\n",
    "    'radius error', 'texture error', 'perimeter error', 'area error',\r\n",
    "    'smoothness error', 'compactness error', 'concavity error',\r\n",
    "    'concave points error', 'symmetry error', 'fractal dimension error',\r\n",
    "    'worst radius', 'worst texture', 'worst perimeter', 'worst area',\r\n",
    "    'worst smoothness', 'worst compactness', 'worst concavity',\r\n",
    "    'worst concave points', 'worst symmetry', 'worst fractal dimension',\r\n",
    "    'target']\r\n",
    "\r\n",
    "*and index = *\r\n",
    "\r\n",
    "    RangeIndex(start=0, stop=569, step=1)"
   ]
  },
  {
   "cell_type": "code",
   "execution_count": 71,
   "id": "0d195fd2-528d-4773-b464-1ba2c2f735bc",
   "metadata": {},
   "outputs": [
    {
     "name": "stdout",
     "output_type": "stream",
     "text": [
      "(569, 31)\n"
     ]
    }
   ],
   "source": [
    "def answer_one():\n",
    "    # Create a DataFrame from the data\n",
    "    df = pd.DataFrame(data=cancer.data, columns=cancer.feature_names)\n",
    "    \n",
    "    # Add the target to the DataFrame\n",
    "    df['target'] = cancer.target\n",
    "    \n",
    "    return df\n",
    "print(answer_one().shape)"
   ]
  },
  {
   "cell_type": "markdown",
   "id": "ffb34a6d-87d0-413b-9603-ac0a6a253b13",
   "metadata": {},
   "source": [
    "### Question 2\n",
    "What is the class distribution? (i.e. how many instances of `malignant` and how many `benign`?)\n",
    "\n",
    "*This function should return a Series named `target` of length 2 with integer values and index =* `['malignant', 'benign']`"
   ]
  },
  {
   "cell_type": "code",
   "execution_count": 74,
   "id": "bb3a36a7-5b84-4fc8-8392-8dadd714277c",
   "metadata": {},
   "outputs": [
    {
     "name": "stdout",
     "output_type": "stream",
     "text": [
      "malignant    212\n",
      "benign       357\n",
      "dtype: int64\n"
     ]
    }
   ],
   "source": [
    "def answer_two():\n",
    "    \n",
    "    # Create a pandas Series from the target\n",
    "    target_series = pd.Series(cancer.target)\n",
    "     # Count the occurrences of each class\n",
    "    class_counts = target_series.value_counts()\n",
    "    \n",
    "    # Create a Series with index ['malignant', 'benign']\n",
    "    target = pd.Series([class_counts[0], class_counts[1]], index=['malignant', 'benign'])\n",
    "    \n",
    "    return target\n",
    "    raise NotImplementedError()\n",
    "    \n",
    "print(answer_two())\n"
   ]
  },
  {
   "cell_type": "markdown",
   "id": "ccd64bff-253f-48b5-88fc-c956a74e6c6f",
   "metadata": {},
   "source": [
    "### Question 3\n",
    "Split the DataFrame into `X` (the data) and `y` (the labels).\n",
    "\n",
    "*This function should return a tuple of length 2:* `(X, y)`*, where* \n",
    "* `X` *has shape* `(569, 30)`\n",
    "* `y` *has shape* `(569,)`."
   ]
  },
  {
   "cell_type": "code",
   "execution_count": 77,
   "id": "e9abc272-db0d-45d0-893f-82d53c83c338",
   "metadata": {},
   "outputs": [
    {
     "name": "stdout",
     "output_type": "stream",
     "text": [
      "(569, 30)\n",
      "(569,)\n"
     ]
    }
   ],
   "source": [
    "def answer_three():\n",
    "    # Create a DataFrame from the data\n",
    "    df = pd.DataFrame(data=cancer.data, columns=cancer.feature_names)\n",
    "    \n",
    "    # Assign X to the features (all columns)\n",
    "    X = df\n",
    "    \n",
    "    # Assign y to the target\n",
    "    y = pd.Series(cancer.target, name='target')\n",
    "    \n",
    "    return (X, y)\n",
    "\n",
    "X, y = answer_three()\n",
    "print(X.shape) \n",
    "print(y.shape)  "
   ]
  },
  {
   "cell_type": "markdown",
   "id": "a4a4dff0-386b-42ce-9f97-cd2e156d1869",
   "metadata": {},
   "source": [
    "### Question 4\n",
    "Using `train_test_split`, split `X` and `y` into training and test sets `(X_train, X_test, y_train, and y_test)`.\n",
    "\n",
    "**Set the random number generator state to 0 using `random_state=0` to make sure your results match the autograder!**\n",
    "\n",
    "*This function should return a tuple of length 4:* `(X_train, X_test, y_train, y_test)`*, where* \n",
    "* `X_train` *has shape* `(426, 30)`\n",
    "* `X_test` *has shape* `(143, 30)`\n",
    "* `y_train` *has shape* `(426,)`\n",
    "* `y_test` *has shape* `(143,)`"
   ]
  },
  {
   "cell_type": "code",
   "execution_count": 100,
   "id": "f08ff075-d9c5-4f7a-96a6-f50935ee1f3d",
   "metadata": {},
   "outputs": [
    {
     "name": "stdout",
     "output_type": "stream",
     "text": [
      "(426, 30)\n",
      "(143, 30)\n",
      "(426,)\n",
      "(143,)\n"
     ]
    }
   ],
   "source": [
    "def answer_four():\n",
    "    from sklearn.model_selection import train_test_split\n",
    "\n",
    "    # Split the dataset into training and testing sets\n",
    "    X_train, X_test, y_train, y_test = train_test_split(\n",
    "        X, y, test_size=0.25, random_state=0\n",
    "    )\n",
    "\n",
    "    return (X_train, X_test, y_train, y_test)\n",
    "\n",
    "\n",
    "X_train, X_test, y_train, y_test = answer_four()\n",
    "print(X_train.shape)\n",
    "print(X_test.shape)\n",
    "print(y_train.shape)\n",
    "print(y_test.shape)"
   ]
  },
  {
   "cell_type": "markdown",
   "id": "781da09e-c21d-40ed-a62c-b530b28a302d",
   "metadata": {},
   "source": [
    "### Question 5\n",
    "Using KNeighborsClassifier, fit a k-nearest neighbors (knn) classifier with `X_train`, `y_train` and using one nearest neighbor (`n_neighbors = 1`).\n",
    "\n",
    "*This function should return a `sklearn.neighbors.classification.KNeighborsClassifier`."
   ]
  },
  {
   "cell_type": "code",
   "execution_count": 102,
   "id": "3fdc4358-8b1a-44a0-a053-4a161f015bbb",
   "metadata": {},
   "outputs": [],
   "source": [
    "from sklearn.neighbors import KNeighborsClassifier\n",
    "\n",
    "\n",
    "def answer_five():\n",
    "    # Initialize KNeighborsClassifier with one nearest neighbor\n",
    "    knn = KNeighborsClassifier(n_neighbors=1)\n",
    "\n",
    "    # Fit the classifier with the training data\n",
    "    knn.fit(X_train, y_train)\n",
    "\n",
    "    return knn"
   ]
  },
  {
   "cell_type": "code",
   "execution_count": 104,
   "id": "de703ec9-87df-4212-9969-8562f5dc034b",
   "metadata": {},
   "outputs": [
    {
     "name": "stdout",
     "output_type": "stream",
     "text": [
      "KNeighborsClassifier(n_neighbors=1)\n"
     ]
    }
   ],
   "source": [
    "knn_model = answer_five()\n",
    "print(knn_model)"
   ]
  },
  {
   "cell_type": "markdown",
   "id": "e573b92c-3e15-4936-9ef1-6ec0011add75",
   "metadata": {},
   "source": [
    "### Question 6\n",
    "Using your knn classifier, predict the class label using the mean value for each feature.\n",
    "\n",
    "Hint: You can use `cancerdf.mean()[:-1].values.reshape(1, -1)` which gets the mean value for each feature, ignores the target column, and reshapes the data from 1 dimension to 2 (necessary for the precict method of KNeighborsClassifier)."
   ]
  },
  {
   "cell_type": "code",
   "execution_count": 106,
   "id": "46d60936-ae7d-4b54-bc4c-87080fcb02dd",
   "metadata": {},
   "outputs": [
    {
     "name": "stdout",
     "output_type": "stream",
     "text": [
      "1\n"
     ]
    },
    {
     "name": "stderr",
     "output_type": "stream",
     "text": [
      "C:\\Users\\joaqpach\\AppData\\Local\\anaconda3\\Lib\\site-packages\\sklearn\\base.py:493: UserWarning: X does not have valid feature names, but KNeighborsClassifier was fitted with feature names\n",
      "  warnings.warn(\n"
     ]
    }
   ],
   "source": [
    "def answer_six(knn_model, X_train):\n",
    "    \n",
    "    #Calculate the mean value of each feature in the training set\n",
    "    mean_values = X_train.mean().values.reshape(1, -1)\n",
    "\n",
    "    #Use the trained model to predict the class of the average feature set\n",
    "    prediction = knn_model.predict(mean_values)\n",
    "    return prediction[0]\n",
    "\n",
    "\n",
    "# Pasar el modelo entrenado y el conjunto de entrenamiento a la función\n",
    "predicted_class = answer_six(knn_model, X_train)\n",
    "print(predicted_class)"
   ]
  },
  {
   "cell_type": "markdown",
   "id": "1da41638-52a8-4c57-9ec2-6929e011f05f",
   "metadata": {},
   "source": [
    "### Question 7\n",
    "Using your knn classifier, predict the class labels for the test set `X_test`.\n",
    "\n",
    "*This function should return a numpy array with shape `(143,)` and values either `0.0` or `1.0`.*"
   ]
  },
  {
   "cell_type": "code",
   "execution_count": 108,
   "id": "6a16bef2-b641-4f7c-84dc-18556e5a14fa",
   "metadata": {},
   "outputs": [
    {
     "name": "stdout",
     "output_type": "stream",
     "text": [
      "(143,)\n",
      "[1 1 1 0 1 1 1 1 1 1 0 1 1 1 0 0 1 0 0 0 0 1 1 1 0 1 1 1 1 0 1 0 1 0 1 0 1\n",
      " 0 1 0 0 1 0 1 0 0 1 1 1 0 0 1 0 1 1 1 1 1 1 0 0 0 1 1 0 1 0 0 0 1 1 0 1 1\n",
      " 0 1 1 1 1 1 0 0 0 1 0 1 1 1 0 0 1 0 1 0 1 1 0 1 1 1 1 1 1 1 0 1 0 1 0 1 1\n",
      " 0 0 1 1 1 0 1 1 1 1 1 1 1 0 1 1 1 1 1 0 1 1 1 1 1 1 0 0 1 1 1 0]\n"
     ]
    }
   ],
   "source": [
    "def answer_seven():\n",
    "    #Use the trained KNN model to predict the class labels for the test set\n",
    "    predictions = knn_model.predict(X_test)\n",
    "    return predictions\n",
    "\n",
    "predicted_classes = answer_seven()\n",
    "print(predicted_classes.shape)\n",
    "print(predicted_classes)"
   ]
  },
  {
   "cell_type": "markdown",
   "id": "8cb4b00f-46c3-4414-add7-ed78b41852b3",
   "metadata": {},
   "source": [
    "### Question 8\n",
    "Find the score (mean accuracy) of your knn classifier using `X_test` and `y_test`.\n",
    "\n",
    "*This function should return a float between 0 and 1*"
   ]
  },
  {
   "cell_type": "code",
   "execution_count": 110,
   "id": "df734df9-8de5-48fd-96f8-7e9b80fd8275",
   "metadata": {},
   "outputs": [
    {
     "name": "stdout",
     "output_type": "stream",
     "text": [
      "0.916083916083916\n"
     ]
    }
   ],
   "source": [
    "def answer_eight():\n",
    "    #Calculate the average precision on the test data\n",
    "    accuracy = knn_model.score(X_test, y_test)\n",
    "    return accuracy\n",
    "\n",
    "# Obtener la precisión del modelo\n",
    "accuracy_score = answer_eight()\n",
    "print(accuracy_score)"
   ]
  },
  {
   "cell_type": "code",
   "execution_count": null,
   "id": "1f9246fa-1ed3-427f-9271-f4b9cdbafb6c",
   "metadata": {},
   "outputs": [],
   "source": []
  }
 ],
 "metadata": {
  "kernelspec": {
   "display_name": "Python 3 (ipykernel)",
   "language": "python",
   "name": "python3"
  },
  "language_info": {
   "codemirror_mode": {
    "name": "ipython",
    "version": 3
   },
   "file_extension": ".py",
   "mimetype": "text/x-python",
   "name": "python",
   "nbconvert_exporter": "python",
   "pygments_lexer": "ipython3",
   "version": "3.12.4"
  }
 },
 "nbformat": 4,
 "nbformat_minor": 5
}
